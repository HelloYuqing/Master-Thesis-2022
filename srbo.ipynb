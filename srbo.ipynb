{
 "cells": [
  {
   "cell_type": "code",
   "execution_count": 1,
   "id": "163650cd-b061-4df5-8f09-7e849473a55b",
   "metadata": {},
   "outputs": [
    {
     "name": "stdout",
     "output_type": "stream",
     "text": [
      "Looking in indexes: https://repo.huaweicloud.com/repository/pypi/simple\n",
      "Requirement already satisfied: scipy in /root/miniconda3/lib/python3.8/site-packages (1.9.0)\n",
      "Requirement already satisfied: numpy<1.25.0,>=1.18.5 in /root/miniconda3/lib/python3.8/site-packages (from scipy) (1.21.4)\n",
      "\u001b[33mWARNING: Running pip as the 'root' user can result in broken permissions and conflicting behaviour with the system package manager. It is recommended to use a virtual environment instead: https://pip.pypa.io/warnings/venv\u001b[0m\n"
     ]
    }
   ],
   "source": [
    "!pip install scipy"
   ]
  },
  {
   "cell_type": "code",
   "execution_count": null,
   "id": "a37ac341-fb67-4205-b110-c1f79f1cf359",
   "metadata": {},
   "outputs": [],
   "source": [
    "import scipy\n",
    "import pandas as pd\n",
    "import matplotlib.pyplot as plt\n",
    "import numpy as np"
   ]
  },
  {
   "cell_type": "code",
   "execution_count": null,
   "id": "490013bc-787b-43f4-8892-caeb33708165",
   "metadata": {},
   "outputs": [],
   "source": [
    "data = pd.read_csv('result_eva4.csv')"
   ]
  },
  {
   "cell_type": "code",
   "execution_count": null,
   "id": "d6111879-214f-48e3-9b9a-5c96db83ef99",
   "metadata": {},
   "outputs": [],
   "source": [
    "data = data[data['name']=='cluster']"
   ]
  },
  {
   "cell_type": "code",
   "execution_count": null,
   "id": "e6864521-b8e4-4bfb-bacf-0446b42d838f",
   "metadata": {},
   "outputs": [],
   "source": [
    "data.to_csv('lstmdata.csv')"
   ]
  },
  {
   "cell_type": "code",
   "execution_count": null,
   "id": "b810e48e-4381-4f91-b1e3-1642aa55202c",
   "metadata": {},
   "outputs": [],
   "source": [
    "data_time = data['time']"
   ]
  },
  {
   "cell_type": "code",
   "execution_count": null,
   "id": "3bb799b0-e8bc-48ef-833a-b303606e392c",
   "metadata": {},
   "outputs": [
    {
     "data": {
      "text/plain": [
       "47    2022-06-23\n",
       "48    2022-06-22\n",
       "49    2022-06-21\n",
       "50    2022-06-20\n",
       "51    2022-06-19\n",
       "52    2022-06-18\n",
       "53    2022-06-17\n",
       "54    2022-06-16\n",
       "55    2022-06-06\n",
       "56    2022-06-05\n",
       "57    2022-05-27\n",
       "58    2022-05-26\n",
       "59    2022-05-25\n",
       "60    2022-05-24\n",
       "61    2022-05-23\n",
       "62    2022-05-22\n",
       "63    2022-05-19\n",
       "64    2022-05-18\n",
       "65    2022-05-17\n",
       "66    2022-05-13\n",
       "67    2022-05-12\n",
       "68    2022-05-11\n",
       "69    2022-05-09\n",
       "70    2022-05-08\n",
       "71    2022-05-07\n",
       "72    2022-05-06\n",
       "73    2022-05-05\n",
       "74    2022-05-04\n",
       "75    2022-05-02\n",
       "76    2022-05-01\n",
       "77    2022-04-30\n",
       "78    2022-04-27\n",
       "79    2022-04-26\n",
       "80    2022-04-25\n",
       "81    2022-04-20\n",
       "82    2022-04-19\n",
       "83    2022-04-17\n",
       "84    2022-04-16\n",
       "85    2022-04-15\n",
       "86    2022-04-14\n",
       "87    2022-04-13\n",
       "88    2022-04-12\n",
       "89    2022-04-11\n",
       "90    2022-04-10\n",
       "91    2022-04-09\n",
       "92    2022-04-08\n",
       "93    2022-04-18\n",
       "Name: time, dtype: object"
      ]
     },
     "execution_count": 7,
     "metadata": {},
     "output_type": "execute_result"
    }
   ],
   "source": [
    "data_time"
   ]
  },
  {
   "cell_type": "code",
   "execution_count": null,
   "id": "7a6ac713-bb65-4748-a20a-ff3471c56ceb",
   "metadata": {},
   "outputs": [],
   "source": [
    "data_x = data['dcp']"
   ]
  },
  {
   "cell_type": "code",
   "execution_count": null,
   "id": "e3b5cb04-62ee-43a5-8478-47ae65288409",
   "metadata": {},
   "outputs": [],
   "source": [
    "data_x =  data_x[:42]"
   ]
  },
  {
   "cell_type": "code",
   "execution_count": null,
   "id": "0e92ca27-c000-4c8c-b285-17b29adcf710",
   "metadata": {},
   "outputs": [],
   "source": [
    "data_x = data_x[::-1]"
   ]
  },
  {
   "cell_type": "code",
   "execution_count": null,
   "id": "e42b7640-0722-4156-a78e-e1db6d6e6b39",
   "metadata": {},
   "outputs": [],
   "source": [
    "data_x = data_x.to_numpy()"
   ]
  },
  {
   "cell_type": "code",
   "execution_count": null,
   "id": "aa938672-ca36-4e15-ad20-4b3d18579d6f",
   "metadata": {},
   "outputs": [],
   "source": []
  },
  {
   "cell_type": "code",
   "execution_count": null,
   "id": "996eec19-e03d-4801-9966-0b3d534dfa3e",
   "metadata": {},
   "outputs": [],
   "source": [
    "def np_move_avg(a,n,mode=\"same\"):\n",
    "    return(np.convolve(a, np.ones((n,))/n, mode=mode))"
   ]
  },
  {
   "cell_type": "code",
   "execution_count": null,
   "id": "3a72da50-eaf3-430b-a3b4-861ad36bc661",
   "metadata": {},
   "outputs": [],
   "source": [
    "def compute_fj(x,window):\n",
    "    out = np_move_avg(x,window)\n",
    "    out1 = x-out\n",
    "    #length = len(x)//7\n",
    "    out1 =out1- np.median(out1)\n",
    "    return out1\n",
    "    "
   ]
  },
  {
   "cell_type": "code",
   "execution_count": null,
   "id": "f8331abf-f699-4f4b-a3ca-7c57a0cecf94",
   "metadata": {},
   "outputs": [],
   "source": [
    "def compute_srbo(x):\n",
    "    fft_y = scipy.fft.fft(x)\n",
    "    abs_y=np.abs(fft_y)                # 取复数的绝对值，即复数的模(双边频谱)\n",
    "    angle_y=np.angle(fft_y) \n",
    "    print(abs_y)\n",
    "    l=np.log2(abs_y+0.001)\n",
    "    kernel = np.ones(3)\n",
    "    h = 1/9.*kernel\n",
    "    print(h)\n",
    "    hq=np.convolve(l, h, mode='same')\n",
    "    r = l-hq\n",
    "    out_put = r+1j*angle_y\n",
    "    output = np.abs(scipy.fft.ifft(out_put))\n",
    "    return output"
   ]
  },
  {
   "cell_type": "code",
   "execution_count": null,
   "id": "119ba131-5db3-4169-b531-bc0c87cc5da8",
   "metadata": {},
   "outputs": [],
   "source": [
    "window = 7"
   ]
  },
  {
   "cell_type": "code",
   "execution_count": null,
   "id": "5191500b-5a6c-48c4-a179-4aa67876f0fd",
   "metadata": {},
   "outputs": [
    {
     "data": {
      "text/plain": [
       "array([ 226.43943733,   34.33970687,   42.0807783 ,  -51.9192217 ,\n",
       "        274.29910714,  -79.88839286, -151.41517857,    9.15625   ,\n",
       "        -69.70089286,  207.98660714,  -92.58482143,  -50.87053571,\n",
       "         99.41517857,  -84.58482143,   23.70089286,   13.70089286,\n",
       "         -9.15625   ,   91.49491279,   84.63776993, -194.81884707,\n",
       "        -10.23412946,   75.18115293,  137.37747195,  -11.10456135,\n",
       "         77.95462068, -170.3310936 , -125.16019089,   84.29596675,\n",
       "         78.26838054, -100.01733374, -157.73161946, -109.15625   ,\n",
       "        580.55803571,  214.84375   , -186.29910714, -129.15625   ,\n",
       "        -51.15625   ,  -63.15625   ,   83.41517857,  129.70089286,\n",
       "         93.12946429, -103.15625   ])"
      ]
     },
     "execution_count": 16,
     "metadata": {},
     "output_type": "execute_result"
    }
   ],
   "source": [
    "out = compute_fj(data_x,window)\n",
    "out"
   ]
  },
  {
   "cell_type": "code",
   "execution_count": null,
   "id": "74d915c0-5b13-40ca-8b60-63c65f5ad812",
   "metadata": {},
   "outputs": [
    {
     "name": "stdout",
     "output_type": "stream",
     "text": [
      "[ 660.37820081  413.76791973  308.99299036  472.59124554  971.95600838\n",
      "  805.30799087  788.01902639 1436.41569831 1429.57576653 1719.5604884\n",
      "  595.43103805 1196.64655625 1400.48064306  452.14216885  947.31193876\n",
      "  920.8378053   805.17247688  855.10671878  846.14773726  634.66581344\n",
      "  455.45781218 1235.29755135  455.45781218  634.66581344  846.14773726\n",
      "  855.10671878  805.17247688  920.8378053   947.31193876  452.14216885\n",
      " 1400.48064306 1196.64655625  595.43103805 1719.5604884  1429.57576653\n",
      " 1436.41569831  788.01902639  805.30799087  971.95600838  472.59124554\n",
      "  308.99299036  413.76791973]\n",
      "[0.11111111 0.11111111 0.11111111]\n"
     ]
    }
   ],
   "source": [
    "output = compute_srbo(out)"
   ]
  },
  {
   "cell_type": "code",
   "execution_count": null,
   "id": "b4f731b2-3e58-4f7b-ac74-70f7e91523ae",
   "metadata": {},
   "outputs": [
    {
     "data": {
      "text/plain": [
       "(42,)"
      ]
     },
     "execution_count": 18,
     "metadata": {},
     "output_type": "execute_result"
    }
   ],
   "source": [
    "o = np.argsort(-output)\n",
    "o.shape"
   ]
  },
  {
   "cell_type": "code",
   "execution_count": null,
   "id": "642bfe24-bbd9-4058-8cae-0e7b1e4db100",
   "metadata": {},
   "outputs": [],
   "source": [
    "result = (output>1).astype(np.int8)"
   ]
  },
  {
   "cell_type": "code",
   "execution_count": null,
   "id": "c3039ec7-c81e-430c-a822-80e83eafa460",
   "metadata": {},
   "outputs": [
    {
     "data": {
      "text/plain": [
       "array([1, 0, 0, 0, 0, 0, 0, 0, 0, 0, 0, 0, 0, 0, 0, 0, 0, 0, 0, 0, 0, 0,\n",
       "       0, 0, 0, 0, 0, 0, 0, 0, 0, 0, 0, 0, 0, 0, 0, 0, 0, 0, 0, 0],\n",
       "      dtype=int8)"
      ]
     },
     "execution_count": 20,
     "metadata": {},
     "output_type": "execute_result"
    }
   ],
   "source": [
    "result[o]"
   ]
  },
  {
   "cell_type": "code",
   "execution_count": null,
   "id": "bd4c5ed8-5983-4155-92da-ba742fc180a3",
   "metadata": {},
   "outputs": [],
   "source": [
    "np.save('pure_result.npy',output)\n",
    "np.save('pure_label.npy',result)"
   ]
  },
  {
   "cell_type": "code",
   "execution_count": null,
   "id": "329599a4-1e5c-406b-b250-5378943763e3",
   "metadata": {},
   "outputs": [
    {
     "data": {
      "text/plain": [
       "array([6.46979311, 0.93840966, 0.67022166, 0.39703014, 0.33778707,\n",
       "       0.30846907, 0.29177765, 0.27984899, 0.27371094, 0.24868968,\n",
       "       0.24831122, 0.24429417, 0.21824332, 0.21628378, 0.21365489,\n",
       "       0.20380928, 0.19690458, 0.18788406, 0.18567842, 0.17083678,\n",
       "       0.1510483 , 0.14605935, 0.13454283, 0.12592147, 0.12488926,\n",
       "       0.1210226 , 0.10372893, 0.10340371, 0.08602292, 0.08413307,\n",
       "       0.07877165, 0.07074184, 0.06770585, 0.05978467, 0.04435907,\n",
       "       0.0438193 , 0.0384173 , 0.02837703, 0.02461748, 0.02183149,\n",
       "       0.01446431, 0.0107818 ])"
      ]
     },
     "execution_count": 22,
     "metadata": {},
     "output_type": "execute_result"
    }
   ],
   "source": [
    "output[o]"
   ]
  },
  {
   "cell_type": "code",
   "execution_count": null,
   "id": "22d19747-c391-4b37-aad7-861ea63091b2",
   "metadata": {},
   "outputs": [],
   "source": [
    "data_time = data_time[:42].to_numpy()"
   ]
  },
  {
   "cell_type": "code",
   "execution_count": null,
   "id": "6f8a7364-c349-4bcd-b22f-3075ea1cb323",
   "metadata": {},
   "outputs": [
    {
     "data": {
      "text/plain": [
       "array(['2022-06-23', '2022-04-26', '2022-05-27', '2022-06-21',\n",
       "       '2022-05-25', '2022-05-12', '2022-05-23', '2022-05-01',\n",
       "       '2022-05-09', '2022-06-17', '2022-06-22', '2022-04-12',\n",
       "       '2022-05-08', '2022-05-19', '2022-05-07', '2022-04-16',\n",
       "       '2022-05-13', '2022-06-16', '2022-04-30', '2022-05-26',\n",
       "       '2022-05-06', '2022-04-17', '2022-04-27', '2022-06-20',\n",
       "       '2022-04-13', '2022-05-04', '2022-04-20', '2022-04-19',\n",
       "       '2022-05-22', '2022-05-17', '2022-04-15', '2022-06-19',\n",
       "       '2022-05-24', '2022-05-05', '2022-04-25', '2022-05-11',\n",
       "       '2022-05-02', '2022-06-06', '2022-06-05', '2022-06-18',\n",
       "       '2022-05-18', '2022-04-14'], dtype=object)"
      ]
     },
     "execution_count": 24,
     "metadata": {},
     "output_type": "execute_result"
    }
   ],
   "source": [
    "data_time[o]"
   ]
  },
  {
   "cell_type": "code",
   "execution_count": null,
   "id": "e06b86ea-7214-4f8b-8170-e04b47681f9f",
   "metadata": {},
   "outputs": [],
   "source": []
  }
 ],
 "metadata": {
  "kernelspec": {
   "display_name": "Python 3 (ipykernel)",
   "language": "python",
   "name": "python3"
  },
  "language_info": {
   "codemirror_mode": {
    "name": "ipython",
    "version": 3
   },
   "file_extension": ".py",
   "mimetype": "text/x-python",
   "name": "python",
   "nbconvert_exporter": "python",
   "pygments_lexer": "ipython3",
   "version": "3.8.10"
  }
 },
 "nbformat": 4,
 "nbformat_minor": 5
}
