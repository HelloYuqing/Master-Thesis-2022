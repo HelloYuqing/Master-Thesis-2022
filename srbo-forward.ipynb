{
 "cells": [
  {
   "cell_type": "code",
   "execution_count": 1,
   "id": "163650cd-b061-4df5-8f09-7e849473a55b",
   "metadata": {},
   "outputs": [
    {
     "name": "stdout",
     "output_type": "stream",
     "text": [
      "Looking in indexes: https://repo.huaweicloud.com/repository/pypi/simple\n",
      "Requirement already satisfied: scipy in /root/miniconda3/lib/python3.8/site-packages (1.9.0)\n",
      "Requirement already satisfied: numpy<1.25.0,>=1.18.5 in /root/miniconda3/lib/python3.8/site-packages (from scipy) (1.21.4)\n",
      "\u001b[33mWARNING: Running pip as the 'root' user can result in broken permissions and conflicting behaviour with the system package manager. It is recommended to use a virtual environment instead: https://pip.pypa.io/warnings/venv\u001b[0m\n"
     ]
    }
   ],
   "source": [
    "!pip install scipy"
   ]
  },
  {
   "cell_type": "code",
   "execution_count": 2,
   "id": "a37ac341-fb67-4205-b110-c1f79f1cf359",
   "metadata": {},
   "outputs": [],
   "source": [
    "import scipy\n",
    "import pandas as pd\n",
    "import matplotlib.pyplot as plt\n",
    "import numpy as np\n",
    "import pandas as pd\n",
    "import torch.nn as nn\n",
    "import torch\n",
    "import torch.nn.functional as F\n",
    "from torch.utils.data import DataLoader,Dataset\n",
    "import numpy as np"
   ]
  },
  {
   "cell_type": "code",
   "execution_count": 3,
   "id": "e99c1db1-0e44-4003-9ede-f3aeaf81e62a",
   "metadata": {},
   "outputs": [],
   "source": [
    "class lstm(nn.Module):\n",
    "    def __init__(self,num):\n",
    "        super().__init__()\n",
    "        self.lstm = nn.LSTM(1,20,2,dropout=0.1,batch_first=True)\n",
    "        self.linear = nn.Linear(20,5)\n",
    "        self.relu=nn.ReLU()\n",
    "        self.linear1 = nn.Linear(5,1)\n",
    "        self.num = num\n",
    "        self.lstm1 = nn.LSTM(1,20,2,dropout=0.2,batch_first=True)\n",
    "    def forward(self,x):\n",
    "        #print(x.shape)\n",
    "        x = x.unsqueeze(2)\n",
    "        output, (hn, cn) = self.lstm(x)\n",
    "        output1=[]\n",
    "        \n",
    "        for i in range(self.num):\n",
    "            output, (hn, cn) = self.lstm1(x[:,-1,:].unsqueeze(1),(hn,cn))\n",
    "            out = self.relu(self.linear(output[:,-1,:]))\n",
    "            out1 = self.linear1(out)\n",
    "            if i <=self.num-1:\n",
    "                out1 = out1.unsqueeze(2)\n",
    "                output1.append(out1)\n",
    "                #print(out1.shape)\n",
    "                x = torch.cat([x,out1],dim=1)\n",
    "                output, (hn, cn) = self.lstm(x[:,1:,:])\n",
    "        return torch.cat(output1,dim=0)"
   ]
  },
  {
   "cell_type": "code",
   "execution_count": 4,
   "id": "67f9ffc6-fa6f-4072-9b47-085f4e373f11",
   "metadata": {},
   "outputs": [
    {
     "data": {
      "text/plain": [
       "lstm(\n",
       "  (lstm): LSTM(1, 20, num_layers=2, batch_first=True, dropout=0.1)\n",
       "  (linear): Linear(in_features=20, out_features=5, bias=True)\n",
       "  (relu): ReLU()\n",
       "  (linear1): Linear(in_features=5, out_features=1, bias=True)\n",
       "  (lstm1): LSTM(1, 20, num_layers=2, batch_first=True, dropout=0.2)\n",
       ")"
      ]
     },
     "execution_count": 4,
     "metadata": {},
     "output_type": "execute_result"
    }
   ],
   "source": [
    "model = lstm(2)\n",
    "model.to('cpu')"
   ]
  },
  {
   "cell_type": "code",
   "execution_count": 5,
   "id": "6c469e2b-45a8-483d-8d9a-bc17f9242d11",
   "metadata": {},
   "outputs": [
    {
     "data": {
      "text/plain": [
       "<All keys matched successfully>"
      ]
     },
     "execution_count": 5,
     "metadata": {},
     "output_type": "execute_result"
    }
   ],
   "source": [
    "loadmodel = torch.load('forward_model.pt',map_location='cpu')\n",
    "model.load_state_dict(loadmodel)"
   ]
  },
  {
   "cell_type": "code",
   "execution_count": 6,
   "id": "490013bc-787b-43f4-8892-caeb33708165",
   "metadata": {},
   "outputs": [],
   "source": [
    "data = pd.read_csv('result_eva4.csv')"
   ]
  },
  {
   "cell_type": "code",
   "execution_count": 7,
   "id": "d6111879-214f-48e3-9b9a-5c96db83ef99",
   "metadata": {},
   "outputs": [],
   "source": [
    "data = data[data['name']=='cluster']"
   ]
  },
  {
   "cell_type": "code",
   "execution_count": 8,
   "id": "e6864521-b8e4-4bfb-bacf-0446b42d838f",
   "metadata": {},
   "outputs": [],
   "source": [
    "data.to_csv('lstmdata.csv')"
   ]
  },
  {
   "cell_type": "code",
   "execution_count": 9,
   "id": "b810e48e-4381-4f91-b1e3-1642aa55202c",
   "metadata": {},
   "outputs": [
    {
     "data": {
      "text/plain": [
       "88    2022-04-12\n",
       "87    2022-04-13\n",
       "86    2022-04-14\n",
       "85    2022-04-15\n",
       "84    2022-04-16\n",
       "83    2022-04-17\n",
       "82    2022-04-19\n",
       "81    2022-04-20\n",
       "80    2022-04-25\n",
       "79    2022-04-26\n",
       "78    2022-04-27\n",
       "77    2022-04-30\n",
       "76    2022-05-01\n",
       "75    2022-05-02\n",
       "74    2022-05-04\n",
       "73    2022-05-05\n",
       "72    2022-05-06\n",
       "71    2022-05-07\n",
       "70    2022-05-08\n",
       "69    2022-05-09\n",
       "68    2022-05-11\n",
       "67    2022-05-12\n",
       "66    2022-05-13\n",
       "65    2022-05-17\n",
       "64    2022-05-18\n",
       "63    2022-05-19\n",
       "62    2022-05-22\n",
       "61    2022-05-23\n",
       "60    2022-05-24\n",
       "59    2022-05-25\n",
       "58    2022-05-26\n",
       "57    2022-05-27\n",
       "56    2022-06-05\n",
       "55    2022-06-06\n",
       "54    2022-06-16\n",
       "53    2022-06-17\n",
       "52    2022-06-18\n",
       "51    2022-06-19\n",
       "50    2022-06-20\n",
       "49    2022-06-21\n",
       "48    2022-06-22\n",
       "47    2022-06-23\n",
       "Name: time, dtype: object"
      ]
     },
     "execution_count": 9,
     "metadata": {},
     "output_type": "execute_result"
    }
   ],
   "source": [
    "data_time = data['time']\n",
    "data_time = data_time[:42]\n",
    "data_time = data_time[::-1]\n",
    "data_time"
   ]
  },
  {
   "cell_type": "code",
   "execution_count": 10,
   "id": "7a6ac713-bb65-4748-a20a-ff3471c56ceb",
   "metadata": {},
   "outputs": [],
   "source": [
    "data_x = data['dcp']"
   ]
  },
  {
   "cell_type": "code",
   "execution_count": 11,
   "id": "049accc8-74c0-4d4c-a444-b5a0db79d294",
   "metadata": {},
   "outputs": [],
   "source": [
    "data_x = data_x[:42]"
   ]
  },
  {
   "cell_type": "code",
   "execution_count": 12,
   "id": "e42b7640-0722-4156-a78e-e1db6d6e6b39",
   "metadata": {},
   "outputs": [],
   "source": [
    "data_x = data_x.to_numpy()\n",
    "data_x = data_x[::-1]"
   ]
  },
  {
   "cell_type": "code",
   "execution_count": 13,
   "id": "aa938672-ca36-4e15-ad20-4b3d18579d6f",
   "metadata": {},
   "outputs": [],
   "source": [
    "input_x=data_x[-5:]\n",
    "input_x = torch.from_numpy(input_x.copy())\n",
    "input_x = input_x.reshape(1,5).float()"
   ]
  },
  {
   "cell_type": "code",
   "execution_count": 14,
   "id": "d14de9ec-5fe5-4e7c-9284-ad0471520d9e",
   "metadata": {},
   "outputs": [
    {
     "data": {
      "text/plain": [
       "tensor([[180., 298., 306., 234.,  12.]])"
      ]
     },
     "execution_count": 14,
     "metadata": {},
     "output_type": "execute_result"
    }
   ],
   "source": [
    "input_x"
   ]
  },
  {
   "cell_type": "code",
   "execution_count": 15,
   "id": "c1f6f5f2-25f4-4fd9-8b26-b002edafcb6e",
   "metadata": {},
   "outputs": [],
   "source": [
    "output = model(input_x)\n",
    "output = torch.flatten(output)"
   ]
  },
  {
   "cell_type": "code",
   "execution_count": 16,
   "id": "24b6f004-acd8-414e-8d20-8a52c94cc230",
   "metadata": {},
   "outputs": [],
   "source": [
    "output = output.detach().numpy()\n"
   ]
  },
  {
   "cell_type": "code",
   "execution_count": 17,
   "id": "50962102-ce71-42d3-8b91-6533daee0dab",
   "metadata": {},
   "outputs": [
    {
     "data": {
      "text/plain": [
       "array([383.52830189, 264.        , 290.        , 206.        ,\n",
       "       508.        , 127.8125    ,  70.        , 214.        ,\n",
       "        82.        , 386.        ,  90.        , 136.        ,\n",
       "       312.        , 102.        , 244.        , 262.        ,\n",
       "       204.        , 326.        , 332.        ,  66.        ,\n",
       "       251.44186047, 334.        , 356.19631902, 210.        ,\n",
       "       306.        ,  52.        ,  82.        , 300.02758621,\n",
       "       294.        , 250.        , 270.        , 306.        ,\n",
       "       992.        , 626.        , 212.        , 268.        ,\n",
       "       248.        , 180.        , 298.        , 306.        ,\n",
       "       234.        ,  12.        , 427.81283569, 427.81283569])"
      ]
     },
     "execution_count": 17,
     "metadata": {},
     "output_type": "execute_result"
    }
   ],
   "source": [
    "data_x = np.concatenate([data_x,output])\n",
    "data_x"
   ]
  },
  {
   "cell_type": "code",
   "execution_count": 18,
   "id": "996eec19-e03d-4801-9966-0b3d534dfa3e",
   "metadata": {},
   "outputs": [],
   "source": [
    "def np_move_avg(a,n,mode=\"same\"):\n",
    "    return(np.convolve(a, np.ones((n,))/n, mode=mode))"
   ]
  },
  {
   "cell_type": "code",
   "execution_count": 19,
   "id": "269ae00b-3f33-4d81-860d-130e29406d6f",
   "metadata": {},
   "outputs": [],
   "source": [
    "def move_avg(a,n,mode=\"same\"):\n",
    "    return(np.convolve(a, np.ones((n,))/(n+1), mode=mode))"
   ]
  },
  {
   "cell_type": "code",
   "execution_count": 20,
   "id": "3a72da50-eaf3-430b-a3b4-861ad36bc661",
   "metadata": {},
   "outputs": [],
   "source": [
    "def compute_fj(x,window):\n",
    "    out = np_move_avg(x,window)\n",
    "    out1 = x-out\n",
    "    #length = len(x)//7\n",
    "    out1 =out1- np.median(out1)\n",
    "    return out1\n",
    "    "
   ]
  },
  {
   "cell_type": "code",
   "execution_count": 21,
   "id": "f8331abf-f699-4f4b-a3ca-7c57a0cecf94",
   "metadata": {},
   "outputs": [],
   "source": [
    "def compute_srbo(x):\n",
    "    fft_y = scipy.fft.fft(x)\n",
    "    abs_y=np.abs(fft_y)                # 取复数的绝对值，即复数的模(双边频谱)\n",
    "    angle_y=np.angle(fft_y) \n",
    "    print(abs_y)\n",
    "    l=np.log2(abs_y+0.001)\n",
    "    kernel = np.ones(3)\n",
    "    h = kernel/3.\n",
    "    print(h)\n",
    "    hq=np.convolve(l, h, mode='same')\n",
    "    r = l-hq\n",
    "    out_put = r+1j*angle_y\n",
    "    output = np.abs(scipy.fft.ifft(out_put))\n",
    "    return output"
   ]
  },
  {
   "cell_type": "code",
   "execution_count": 22,
   "id": "5686df6c-aca4-471e-9411-7df02347b6bf",
   "metadata": {},
   "outputs": [],
   "source": [
    "def compute_d(x,window):\n",
    "    out = move_avg(x,window)\n",
    "    d = (x-out)/out\n",
    "    return d"
   ]
  },
  {
   "cell_type": "code",
   "execution_count": 23,
   "id": "119ba131-5db3-4169-b531-bc0c87cc5da8",
   "metadata": {},
   "outputs": [],
   "source": [
    "window = 7"
   ]
  },
  {
   "cell_type": "code",
   "execution_count": 24,
   "id": "5191500b-5a6c-48c4-a179-4aa67876f0fd",
   "metadata": {},
   "outputs": [],
   "source": [
    "out = compute_fj(data_x,7)"
   ]
  },
  {
   "cell_type": "code",
   "execution_count": 25,
   "id": "74d915c0-5b13-40ca-8b60-63c65f5ad812",
   "metadata": {},
   "outputs": [
    {
     "name": "stdout",
     "output_type": "stream",
     "text": [
      "[ 864.50344059  592.50505948  478.07673821  912.98132691 1258.55725821\n",
      "  545.3760869   655.20455642  462.55791801 2181.63500219 2163.24536665\n",
      "  318.73741088 1276.5770816  1096.59396683  943.92288488  706.03830059\n",
      " 1034.06483197  760.88822809 1306.90643837  341.67147509  707.07892263\n",
      "  582.53617771  466.03591462 1252.69938502  466.03591462  582.53617771\n",
      "  707.07892263  341.67147509 1306.90643837  760.88822809 1034.06483197\n",
      "  706.03830059  943.92288488 1096.59396683 1276.5770816   318.73741088\n",
      " 2163.24536665 2181.63500219  462.55791801  655.20455642  545.3760869\n",
      " 1258.55725821  912.98132691  478.07673821  592.50505948]\n",
      "[0.33333333 0.33333333 0.33333333]\n"
     ]
    }
   ],
   "source": [
    "output = compute_srbo(out)"
   ]
  },
  {
   "cell_type": "code",
   "execution_count": 26,
   "id": "b4f731b2-3e58-4f7b-ac74-70f7e91523ae",
   "metadata": {},
   "outputs": [],
   "source": [
    "output_d = compute_d(output,window) \n",
    "output_d = output_d[:-2]"
   ]
  },
  {
   "cell_type": "code",
   "execution_count": 27,
   "id": "642bfe24-bbd9-4058-8cae-0e7b1e4db100",
   "metadata": {},
   "outputs": [],
   "source": [
    "result = (output_d>1).astype(np.int8)"
   ]
  },
  {
   "cell_type": "code",
   "execution_count": 28,
   "id": "c3039ec7-c81e-430c-a822-80e83eafa460",
   "metadata": {},
   "outputs": [
    {
     "data": {
      "text/plain": [
       "array([1, 0, 0, 0, 0, 0, 0, 1, 0, 0, 0, 0, 1, 0, 0, 0, 0, 0, 0, 1, 0, 0,\n",
       "       0, 0, 0, 0, 0, 0, 1, 0, 0, 0, 1, 1, 0, 0, 0, 1, 1, 0, 0, 0],\n",
       "      dtype=int8)"
      ]
     },
     "execution_count": 28,
     "metadata": {},
     "output_type": "execute_result"
    }
   ],
   "source": [
    "result"
   ]
  },
  {
   "cell_type": "code",
   "execution_count": 29,
   "id": "bd4c5ed8-5983-4155-92da-ba742fc180a3",
   "metadata": {},
   "outputs": [],
   "source": [
    "np.save('forward_output.npy',output)\n",
    "np.save('forward_result.npy',result)"
   ]
  },
  {
   "cell_type": "code",
   "execution_count": 30,
   "id": "2658153c-ae5b-4db5-8675-47e8c02af224",
   "metadata": {},
   "outputs": [
    {
     "data": {
      "text/plain": [
       "(42,)"
      ]
     },
     "execution_count": 30,
     "metadata": {},
     "output_type": "execute_result"
    }
   ],
   "source": [
    "o = np.argsort(-output_d)\n",
    "o.shape"
   ]
  },
  {
   "cell_type": "code",
   "execution_count": 34,
   "id": "b8575b29-6bd7-4bcd-8f47-9487a1742d03",
   "metadata": {},
   "outputs": [
    {
     "data": {
      "text/plain": [
       "array(['2022-06-05', '2022-06-20', '2022-04-12', '2022-05-09',\n",
       "       '2022-05-01', '2022-04-20', '2022-06-06', '2022-06-19',\n",
       "       '2022-05-24', '2022-05-18', '2022-05-23', '2022-04-19',\n",
       "       '2022-06-23', '2022-04-14', '2022-04-27', '2022-04-16',\n",
       "       '2022-05-05', '2022-05-22', '2022-05-13', '2022-05-06',\n",
       "       '2022-05-08', '2022-05-12', '2022-05-27', '2022-05-04',\n",
       "       '2022-05-17', '2022-05-07', '2022-05-02', '2022-04-17',\n",
       "       '2022-06-21', '2022-04-25', '2022-06-22', '2022-06-17',\n",
       "       '2022-04-30', '2022-04-15', '2022-06-16', '2022-04-13',\n",
       "       '2022-06-18', '2022-05-26', '2022-04-26', '2022-05-25',\n",
       "       '2022-05-11', '2022-05-19'], dtype=object)"
      ]
     },
     "execution_count": 34,
     "metadata": {},
     "output_type": "execute_result"
    }
   ],
   "source": [
    "data_time = data_time.to_numpy()\n",
    "data_time[o]"
   ]
  },
  {
   "cell_type": "code",
   "execution_count": 33,
   "id": "cc2de235-b3e2-455a-ac2c-b798b3b188dc",
   "metadata": {},
   "outputs": [
    {
     "data": {
      "text/plain": [
       "88    2022-04-12\n",
       "87    2022-04-13\n",
       "86    2022-04-14\n",
       "85    2022-04-15\n",
       "84    2022-04-16\n",
       "83    2022-04-17\n",
       "82    2022-04-19\n",
       "81    2022-04-20\n",
       "80    2022-04-25\n",
       "79    2022-04-26\n",
       "78    2022-04-27\n",
       "77    2022-04-30\n",
       "76    2022-05-01\n",
       "75    2022-05-02\n",
       "74    2022-05-04\n",
       "73    2022-05-05\n",
       "72    2022-05-06\n",
       "71    2022-05-07\n",
       "70    2022-05-08\n",
       "69    2022-05-09\n",
       "68    2022-05-11\n",
       "67    2022-05-12\n",
       "66    2022-05-13\n",
       "65    2022-05-17\n",
       "64    2022-05-18\n",
       "63    2022-05-19\n",
       "62    2022-05-22\n",
       "61    2022-05-23\n",
       "60    2022-05-24\n",
       "59    2022-05-25\n",
       "58    2022-05-26\n",
       "57    2022-05-27\n",
       "56    2022-06-05\n",
       "55    2022-06-06\n",
       "54    2022-06-16\n",
       "53    2022-06-17\n",
       "52    2022-06-18\n",
       "51    2022-06-19\n",
       "50    2022-06-20\n",
       "49    2022-06-21\n",
       "48    2022-06-22\n",
       "47    2022-06-23\n",
       "Name: time, dtype: object"
      ]
     },
     "execution_count": 33,
     "metadata": {},
     "output_type": "execute_result"
    }
   ],
   "source": [
    "data_time"
   ]
  },
  {
   "cell_type": "code",
   "execution_count": null,
   "id": "057b0cee-c362-4faf-ae3f-c6ba30cf904d",
   "metadata": {},
   "outputs": [],
   "source": []
  }
 ],
 "metadata": {
  "kernelspec": {
   "display_name": "Python 3 (ipykernel)",
   "language": "python",
   "name": "python3"
  },
  "language_info": {
   "codemirror_mode": {
    "name": "ipython",
    "version": 3
   },
   "file_extension": ".py",
   "mimetype": "text/x-python",
   "name": "python",
   "nbconvert_exporter": "python",
   "pygments_lexer": "ipython3",
   "version": "3.8.10"
  }
 },
 "nbformat": 4,
 "nbformat_minor": 5
}
