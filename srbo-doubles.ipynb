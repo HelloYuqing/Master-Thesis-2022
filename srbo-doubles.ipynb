{
 "cells": [
  {
   "cell_type": "code",
   "execution_count": 1,
   "id": "163650cd-b061-4df5-8f09-7e849473a55b",
   "metadata": {},
   "outputs": [
    {
     "name": "stdout",
     "output_type": "stream",
     "text": [
      "Looking in indexes: https://repo.huaweicloud.com/repository/pypi/simple\n",
      "Requirement already satisfied: scipy in /root/miniconda3/lib/python3.8/site-packages (1.9.0)\n",
      "Requirement already satisfied: numpy<1.25.0,>=1.18.5 in /root/miniconda3/lib/python3.8/site-packages (from scipy) (1.21.4)\n",
      "\u001b[33mWARNING: Running pip as the 'root' user can result in broken permissions and conflicting behaviour with the system package manager. It is recommended to use a virtual environment instead: https://pip.pypa.io/warnings/venv\u001b[0m\n"
     ]
    }
   ],
   "source": [
    "!pip install scipy"
   ]
  },
  {
   "cell_type": "code",
   "execution_count": 2,
   "id": "a37ac341-fb67-4205-b110-c1f79f1cf359",
   "metadata": {},
   "outputs": [],
   "source": [
    "import scipy\n",
    "import pandas as pd\n",
    "import matplotlib.pyplot as plt\n",
    "import numpy as np\n",
    "import pandas as pd\n",
    "import torch.nn as nn\n",
    "import torch\n",
    "import torch.nn.functional as F\n",
    "from torch.utils.data import DataLoader,Dataset\n",
    "import numpy as np"
   ]
  },
  {
   "cell_type": "code",
   "execution_count": 3,
   "id": "e99c1db1-0e44-4003-9ede-f3aeaf81e62a",
   "metadata": {},
   "outputs": [],
   "source": [
    "class lstm(nn.Module):\n",
    "    def __init__(self,num):\n",
    "        super().__init__()\n",
    "        self.lstm = nn.LSTM(1,20,2,dropout=0.1,batch_first=True)\n",
    "        self.linear = nn.Linear(20,5)\n",
    "        self.relu=nn.ReLU()\n",
    "        self.linear1 = nn.Linear(5,1)\n",
    "        self.num = num\n",
    "        self.lstm1 = nn.LSTM(1,20,2,dropout=0.2,batch_first=True)\n",
    "    def forward(self,x):\n",
    "        #print(x.shape)\n",
    "        x = x.unsqueeze(2)\n",
    "        output, (hn, cn) = self.lstm(x)\n",
    "        output1=[]\n",
    "        \n",
    "        for i in range(self.num):\n",
    "            output, (hn, cn) = self.lstm1(x[:,-1,:].unsqueeze(1),(hn,cn))\n",
    "            out = self.relu(self.linear(output[:,-1,:]))\n",
    "            out1 = self.linear1(out)\n",
    "            if i <=self.num-1:\n",
    "                out1 = out1.unsqueeze(2)\n",
    "                output1.append(out1)\n",
    "                #print(out1.shape)\n",
    "                x = torch.cat([x,out1],dim=1)\n",
    "                output, (hn, cn) = self.lstm(x[:,1:,:])\n",
    "        return torch.cat(output1,dim=0)"
   ]
  },
  {
   "cell_type": "code",
   "execution_count": 4,
   "id": "67f9ffc6-fa6f-4072-9b47-085f4e373f11",
   "metadata": {},
   "outputs": [
    {
     "data": {
      "text/plain": [
       "lstm(\n",
       "  (lstm): LSTM(1, 20, num_layers=2, batch_first=True, dropout=0.1)\n",
       "  (linear): Linear(in_features=20, out_features=5, bias=True)\n",
       "  (relu): ReLU()\n",
       "  (linear1): Linear(in_features=5, out_features=1, bias=True)\n",
       "  (lstm1): LSTM(1, 20, num_layers=2, batch_first=True, dropout=0.2)\n",
       ")"
      ]
     },
     "execution_count": 4,
     "metadata": {},
     "output_type": "execute_result"
    }
   ],
   "source": [
    "model = lstm(2)\n",
    "model.to('cpu')"
   ]
  },
  {
   "cell_type": "code",
   "execution_count": 5,
   "id": "6c469e2b-45a8-483d-8d9a-bc17f9242d11",
   "metadata": {},
   "outputs": [
    {
     "data": {
      "text/plain": [
       "<All keys matched successfully>"
      ]
     },
     "execution_count": 5,
     "metadata": {},
     "output_type": "execute_result"
    }
   ],
   "source": [
    "loadmodel = torch.load('forward_model.pt',map_location='cpu')\n",
    "model.load_state_dict(loadmodel)"
   ]
  },
  {
   "cell_type": "code",
   "execution_count": 6,
   "id": "490013bc-787b-43f4-8892-caeb33708165",
   "metadata": {},
   "outputs": [],
   "source": [
    "data = pd.read_csv('result_eva4.csv')"
   ]
  },
  {
   "cell_type": "code",
   "execution_count": 7,
   "id": "d6111879-214f-48e3-9b9a-5c96db83ef99",
   "metadata": {},
   "outputs": [],
   "source": [
    "data = data[data['name']=='cluster']"
   ]
  },
  {
   "cell_type": "code",
   "execution_count": 8,
   "id": "e6864521-b8e4-4bfb-bacf-0446b42d838f",
   "metadata": {},
   "outputs": [],
   "source": [
    "data.to_csv('lstmdata.csv')"
   ]
  },
  {
   "cell_type": "code",
   "execution_count": 9,
   "id": "b810e48e-4381-4f91-b1e3-1642aa55202c",
   "metadata": {},
   "outputs": [],
   "source": [
    "data_time = data['time']"
   ]
  },
  {
   "cell_type": "code",
   "execution_count": 10,
   "id": "7a6ac713-bb65-4748-a20a-ff3471c56ceb",
   "metadata": {},
   "outputs": [],
   "source": [
    "data_x = data['dcp']"
   ]
  },
  {
   "cell_type": "code",
   "execution_count": 11,
   "id": "049accc8-74c0-4d4c-a444-b5a0db79d294",
   "metadata": {},
   "outputs": [],
   "source": [
    "data_x = data_x[:42]"
   ]
  },
  {
   "cell_type": "code",
   "execution_count": 12,
   "id": "e42b7640-0722-4156-a78e-e1db6d6e6b39",
   "metadata": {},
   "outputs": [],
   "source": [
    "data_x = data_x.to_numpy()"
   ]
  },
  {
   "cell_type": "code",
   "execution_count": 13,
   "id": "aa938672-ca36-4e15-ad20-4b3d18579d6f",
   "metadata": {},
   "outputs": [],
   "source": [
    "input_x=data_x[-5:]\n",
    "input_x = torch.from_numpy(input_x)\n",
    "input_x = input_x.reshape(1,5).float()"
   ]
  },
  {
   "cell_type": "code",
   "execution_count": 14,
   "id": "c1f6f5f2-25f4-4fd9-8b26-b002edafcb6e",
   "metadata": {},
   "outputs": [],
   "source": [
    "output = model(input_x)\n",
    "output = torch.flatten(output)"
   ]
  },
  {
   "cell_type": "code",
   "execution_count": 15,
   "id": "24b6f004-acd8-414e-8d20-8a52c94cc230",
   "metadata": {},
   "outputs": [
    {
     "data": {
      "text/plain": [
       "array([427.81284, 427.81293], dtype=float32)"
      ]
     },
     "execution_count": 15,
     "metadata": {},
     "output_type": "execute_result"
    }
   ],
   "source": [
    "output = output.detach().numpy()\n",
    "output"
   ]
  },
  {
   "cell_type": "code",
   "execution_count": 16,
   "id": "50962102-ce71-42d3-8b91-6533daee0dab",
   "metadata": {},
   "outputs": [
    {
     "data": {
      "text/plain": [
       "array([ 12.        , 234.        , 306.        , 298.        ,\n",
       "       180.        , 248.        , 268.        , 212.        ,\n",
       "       626.        , 992.        , 306.        , 270.        ,\n",
       "       250.        , 294.        , 300.02758621,  82.        ,\n",
       "        52.        , 306.        , 210.        , 356.19631902,\n",
       "       334.        , 251.44186047,  66.        , 332.        ,\n",
       "       326.        , 204.        , 262.        , 244.        ,\n",
       "       102.        , 312.        , 136.        ,  90.        ,\n",
       "       386.        ,  82.        , 214.        ,  70.        ,\n",
       "       127.8125    , 508.        , 206.        , 290.        ,\n",
       "       264.        , 383.52830189, 427.81283569, 427.81292725])"
      ]
     },
     "execution_count": 16,
     "metadata": {},
     "output_type": "execute_result"
    }
   ],
   "source": [
    "data_x = np.concatenate([data_x,output])\n",
    "data_x"
   ]
  },
  {
   "cell_type": "code",
   "execution_count": 17,
   "id": "66352b4c-e8a1-47f9-aa35-399bf001eb03",
   "metadata": {},
   "outputs": [
    {
     "data": {
      "text/plain": [
       "<All keys matched successfully>"
      ]
     },
     "execution_count": 17,
     "metadata": {},
     "output_type": "execute_result"
    }
   ],
   "source": [
    "loadmodel = torch.load('back_model.pt',map_location='cpu')\n",
    "model.load_state_dict(loadmodel)"
   ]
  },
  {
   "cell_type": "code",
   "execution_count": 18,
   "id": "a39f5641-ddd3-4730-97ed-a78094ec3a07",
   "metadata": {},
   "outputs": [],
   "source": [
    "input_x=data_x[::-1]\n",
    "input_x=data_x[-5:]\n",
    "input_x = torch.from_numpy(input_x)\n",
    "\n",
    "input_x = input_x.reshape(1,5).float()"
   ]
  },
  {
   "cell_type": "code",
   "execution_count": 19,
   "id": "455b59f4-86b0-44f4-97c1-9cd94601879c",
   "metadata": {},
   "outputs": [],
   "source": [
    "output = model(input_x)\n",
    "output = torch.flatten(output)\n",
    "output = output.detach().numpy()\n",
    "output = output[::-1]"
   ]
  },
  {
   "cell_type": "code",
   "execution_count": 20,
   "id": "2c8707fa-e39f-4cf0-8303-882ae2b31aba",
   "metadata": {},
   "outputs": [
    {
     "data": {
      "text/plain": [
       "array([  5.17459631,   5.17459631,  12.        , 234.        ,\n",
       "       306.        , 298.        , 180.        , 248.        ,\n",
       "       268.        , 212.        , 626.        , 992.        ,\n",
       "       306.        , 270.        , 250.        , 294.        ,\n",
       "       300.02758621,  82.        ,  52.        , 306.        ,\n",
       "       210.        , 356.19631902, 334.        , 251.44186047,\n",
       "        66.        , 332.        , 326.        , 204.        ,\n",
       "       262.        , 244.        , 102.        , 312.        ,\n",
       "       136.        ,  90.        , 386.        ,  82.        ,\n",
       "       214.        ,  70.        , 127.8125    , 508.        ,\n",
       "       206.        , 290.        , 264.        , 383.52830189,\n",
       "       427.81283569, 427.81292725])"
      ]
     },
     "execution_count": 20,
     "metadata": {},
     "output_type": "execute_result"
    }
   ],
   "source": [
    "data_x = np.concatenate([output,data_x])\n",
    "data_x "
   ]
  },
  {
   "cell_type": "code",
   "execution_count": 21,
   "id": "996eec19-e03d-4801-9966-0b3d534dfa3e",
   "metadata": {},
   "outputs": [],
   "source": [
    "def np_move_avg(a,n,mode=\"same\"):\n",
    "    return(np.convolve(a, np.ones((n,))/n, mode=mode))"
   ]
  },
  {
   "cell_type": "code",
   "execution_count": 22,
   "id": "4be93aa8-7c01-4855-838c-bd5cffd52ef8",
   "metadata": {},
   "outputs": [],
   "source": [
    "def move_avg(a,n,mode=\"same\"):\n",
    "    return(np.convolve(a, np.ones((n,))/(n+1), mode=mode))"
   ]
  },
  {
   "cell_type": "code",
   "execution_count": 23,
   "id": "3a72da50-eaf3-430b-a3b4-861ad36bc661",
   "metadata": {},
   "outputs": [],
   "source": [
    "def compute_fj(x,window):\n",
    "    out = np_move_avg(x,window)\n",
    "    out1 = x-out\n",
    "    #length = len(x)//7\n",
    "    out1 =out1- np.median(out1)\n",
    "    return out1\n",
    "    \n",
    "    "
   ]
  },
  {
   "cell_type": "code",
   "execution_count": 24,
   "id": "f8331abf-f699-4f4b-a3ca-7c57a0cecf94",
   "metadata": {},
   "outputs": [],
   "source": [
    "def compute_srbo(x):\n",
    "    fft_y = scipy.fft.fft(x)\n",
    "    abs_y=np.abs(fft_y)                # 取复数的绝对值，即复数的模(双边频谱)\n",
    "    angle_y=np.angle(fft_y) \n",
    "    print(abs_y)\n",
    "    l=np.log2(abs_y+0.001)\n",
    "    kernel = np.ones(3)\n",
    "    h = kernel/3.\n",
    "    print(h)\n",
    "    hq=np.convolve(l, h, mode='same')\n",
    "    r = l-hq\n",
    "    out_put = r+1j*angle_y\n",
    "    output = np.abs(scipy.fft.ifft(out_put))\n",
    "    return output"
   ]
  },
  {
   "cell_type": "code",
   "execution_count": 25,
   "id": "119ba131-5db3-4169-b531-bc0c87cc5da8",
   "metadata": {},
   "outputs": [],
   "source": [
    "window = 7"
   ]
  },
  {
   "cell_type": "code",
   "execution_count": 26,
   "id": "5191500b-5a6c-48c4-a179-4aa67876f0fd",
   "metadata": {},
   "outputs": [],
   "source": [
    "out = compute_fj(data_x,window)"
   ]
  },
  {
   "cell_type": "code",
   "execution_count": 27,
   "id": "74d915c0-5b13-40ca-8b60-63c65f5ad812",
   "metadata": {},
   "outputs": [
    {
     "name": "stdout",
     "output_type": "stream",
     "text": [
      "[1145.09749399  375.27124254  226.82721872  586.12542462  780.76182635\n",
      "  542.72019288  978.29940996  852.42742895 2371.69249389 1220.34595901\n",
      " 1608.51314184 1024.15996079 1165.34432799 1054.79757532  204.25136171\n",
      "  612.55202864 1289.00813478  238.43389391 1311.98501958  215.96481295\n",
      "  736.66395716  517.35898147  400.03578822 1172.63503727  400.03578822\n",
      "  517.35898147  736.66395716  215.96481295 1311.98501958  238.43389391\n",
      " 1289.00813478  612.55202864  204.25136171 1054.79757532 1165.34432799\n",
      " 1024.15996079 1608.51314184 1220.34595901 2371.69249389  852.42742895\n",
      "  978.29940996  542.72019288  780.76182635  586.12542462  226.82721872\n",
      "  375.27124254]\n",
      "[0.33333333 0.33333333 0.33333333]\n"
     ]
    }
   ],
   "source": [
    "output = compute_srbo(out)"
   ]
  },
  {
   "cell_type": "code",
   "execution_count": 28,
   "id": "7348c3ae-8626-42e2-ab63-2c8c8a8ca442",
   "metadata": {},
   "outputs": [],
   "source": [
    "def compute_d(x,window):\n",
    "    out = move_avg(x,window)\n",
    "    d = (x-out)/out\n",
    "    return d"
   ]
  },
  {
   "cell_type": "code",
   "execution_count": 29,
   "id": "93754912-9401-437e-9e04-626341e8fa94",
   "metadata": {},
   "outputs": [
    {
     "data": {
      "text/plain": [
       "array([ 9.67205290e-01, -1.57987597e-01,  1.01046645e+00, -6.00496037e-01,\n",
       "        1.65883374e+00, -8.64490478e-01,  1.00394610e+00, -4.20267367e-01,\n",
       "       -4.37085255e-01, -1.03563866e-01, -3.01099153e-01,  2.82940844e+00,\n",
       "       -4.24853859e-01, -6.21156339e-01, -9.68936415e-04,  4.72454520e-01,\n",
       "        2.05593481e-01, -2.23241464e-01,  6.80009927e-01, -6.61571826e-01,\n",
       "        9.08615254e-01, -5.80051444e-01,  1.01104721e-01,  9.16489628e-01,\n",
       "       -6.06753676e-01, -6.84403823e-01, -9.45807362e-02,  1.09948856e+00,\n",
       "        2.22480429e+00, -5.76646314e-01, -4.55306586e-01, -2.16828722e-01,\n",
       "       -9.16661408e-01, -2.34833676e-01,  5.15592648e-01,  1.52288260e+00,\n",
       "       -6.84426759e-01,  8.22038803e-01,  9.98847021e-02, -2.35901974e-01,\n",
       "       -6.39466608e-01,  3.37554308e-01, -6.96364136e-02,  5.37322264e-01,\n",
       "        1.72442394e+00,  2.45718476e-01])"
      ]
     },
     "execution_count": 29,
     "metadata": {},
     "output_type": "execute_result"
    }
   ],
   "source": [
    "output_d = compute_d(output,window) \n",
    "output_d"
   ]
  },
  {
   "cell_type": "code",
   "execution_count": 30,
   "id": "b4f731b2-3e58-4f7b-ac74-70f7e91523ae",
   "metadata": {},
   "outputs": [
    {
     "data": {
      "text/plain": [
       "array([ 1.01046645e+00, -6.00496037e-01,  1.65883374e+00, -8.64490478e-01,\n",
       "        1.00394610e+00, -4.20267367e-01, -4.37085255e-01, -1.03563866e-01,\n",
       "       -3.01099153e-01,  2.82940844e+00, -4.24853859e-01, -6.21156339e-01,\n",
       "       -9.68936415e-04,  4.72454520e-01,  2.05593481e-01, -2.23241464e-01,\n",
       "        6.80009927e-01, -6.61571826e-01,  9.08615254e-01, -5.80051444e-01,\n",
       "        1.01104721e-01,  9.16489628e-01, -6.06753676e-01, -6.84403823e-01,\n",
       "       -9.45807362e-02,  1.09948856e+00,  2.22480429e+00, -5.76646314e-01,\n",
       "       -4.55306586e-01, -2.16828722e-01, -9.16661408e-01, -2.34833676e-01,\n",
       "        5.15592648e-01,  1.52288260e+00, -6.84426759e-01,  8.22038803e-01,\n",
       "        9.98847021e-02, -2.35901974e-01, -6.39466608e-01,  3.37554308e-01,\n",
       "       -6.96364136e-02,  5.37322264e-01])"
      ]
     },
     "execution_count": 30,
     "metadata": {},
     "output_type": "execute_result"
    }
   ],
   "source": [
    "output_d = output_d[2:-2]\n",
    "output_d"
   ]
  },
  {
   "cell_type": "code",
   "execution_count": 31,
   "id": "642bfe24-bbd9-4058-8cae-0e7b1e4db100",
   "metadata": {},
   "outputs": [],
   "source": [
    "result = (output_d>1).astype(np.int8)"
   ]
  },
  {
   "cell_type": "code",
   "execution_count": 32,
   "id": "c3039ec7-c81e-430c-a822-80e83eafa460",
   "metadata": {},
   "outputs": [
    {
     "data": {
      "text/plain": [
       "array([1, 0, 1, 0, 1, 0, 0, 0, 0, 1, 0, 0, 0, 0, 0, 0, 0, 0, 0, 0, 0, 0,\n",
       "       0, 0, 0, 1, 1, 0, 0, 0, 0, 0, 0, 1, 0, 0, 0, 0, 0, 0, 0, 0],\n",
       "      dtype=int8)"
      ]
     },
     "execution_count": 32,
     "metadata": {},
     "output_type": "execute_result"
    }
   ],
   "source": [
    "result"
   ]
  },
  {
   "cell_type": "code",
   "execution_count": 33,
   "id": "bd4c5ed8-5983-4155-92da-ba742fc180a3",
   "metadata": {},
   "outputs": [],
   "source": [
    "np.save('backward_result.npy',output)\n",
    "np.save('backward_res.npy',output)"
   ]
  },
  {
   "cell_type": "code",
   "execution_count": 34,
   "id": "b8575b29-6bd7-4bcd-8f47-9487a1742d03",
   "metadata": {},
   "outputs": [
    {
     "data": {
      "text/plain": [
       "(42,)"
      ]
     },
     "execution_count": 34,
     "metadata": {},
     "output_type": "execute_result"
    }
   ],
   "source": [
    "o = np.argsort(-output_d)\n",
    "o.shape"
   ]
  },
  {
   "cell_type": "code",
   "execution_count": 35,
   "id": "3b6da8b9-68cb-4ae4-b6d0-cec2109df053",
   "metadata": {},
   "outputs": [
    {
     "data": {
      "text/plain": [
       "array([0.22644839, 0.27555194, 0.2787966 , 0.14429174, 0.09663316,\n",
       "       0.15182926, 0.46776831, 0.06057803, 0.24999395, 0.5901327 ,\n",
       "       0.17709552, 0.30331484, 0.01617418, 0.09265162, 0.14403939,\n",
       "       0.2416556 , 0.28901041, 0.07886025, 0.14420833, 0.07825835,\n",
       "       0.07578282, 0.10555395, 0.1228782 , 0.23432161, 0.18903028,\n",
       "       0.44027937, 0.13375133, 0.02417101, 0.15456148, 0.34433359,\n",
       "       0.96843096, 0.60077067, 0.04627354, 0.11422001, 0.13772726,\n",
       "       0.91201988, 0.26060215, 0.13316728, 0.29464261, 0.34095619,\n",
       "       0.07259558, 0.14915993])"
      ]
     },
     "execution_count": 35,
     "metadata": {},
     "output_type": "execute_result"
    }
   ],
   "source": [
    "output[o]"
   ]
  },
  {
   "cell_type": "code",
   "execution_count": 36,
   "id": "0fbd4f91-a598-4cb7-bf53-ea84c283d272",
   "metadata": {},
   "outputs": [
    {
     "data": {
      "text/plain": [
       "array(['2022-06-05', '2022-05-05', '2022-06-21', '2022-04-25',\n",
       "       '2022-05-06', '2022-06-23', '2022-06-19', '2022-05-11',\n",
       "       '2022-05-17', '2022-04-19', '2022-05-19', '2022-04-12',\n",
       "       '2022-04-26', '2022-05-24', '2022-04-14', '2022-05-23',\n",
       "       '2022-05-12', '2022-04-17', '2022-05-25', '2022-04-13',\n",
       "       '2022-05-07', '2022-06-16', '2022-05-01', '2022-05-22',\n",
       "       '2022-04-27', '2022-04-16', '2022-06-06', '2022-06-18',\n",
       "       '2022-05-27', '2022-06-17', '2022-05-02', '2022-05-04',\n",
       "       '2022-05-13', '2022-06-22', '2022-05-09', '2022-05-26',\n",
       "       '2022-04-15', '2022-05-18', '2022-05-08', '2022-04-20',\n",
       "       '2022-06-20', '2022-04-30'], dtype=object)"
      ]
     },
     "execution_count": 36,
     "metadata": {},
     "output_type": "execute_result"
    }
   ],
   "source": [
    "data_time = data_time.to_numpy()\n",
    "data_time[o]"
   ]
  },
  {
   "cell_type": "code",
   "execution_count": null,
   "id": "ecb19e8d-c623-4af6-aac9-2a7eaf17e32a",
   "metadata": {},
   "outputs": [],
   "source": []
  }
 ],
 "metadata": {
  "kernelspec": {
   "display_name": "Python 3 (ipykernel)",
   "language": "python",
   "name": "python3"
  },
  "language_info": {
   "codemirror_mode": {
    "name": "ipython",
    "version": 3
   },
   "file_extension": ".py",
   "mimetype": "text/x-python",
   "name": "python",
   "nbconvert_exporter": "python",
   "pygments_lexer": "ipython3",
   "version": "3.8.10"
  }
 },
 "nbformat": 4,
 "nbformat_minor": 5
}
